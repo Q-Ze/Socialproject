{
 "cells": [
  {
   "cell_type": "code",
   "execution_count": 1,
   "metadata": {},
   "outputs": [
    {
     "name": "stderr",
     "output_type": "stream",
     "text": [
      "Building prefix dict from the default dictionary ...\n",
      "Dumping model to file cache C:\\Users\\24103\\AppData\\Local\\Temp\\jieba.cache\n",
      "Loading model cost 0.727 seconds.\n",
      "Prefix dict has been built successfully.\n"
     ]
    }
   ],
   "source": [
    "import numpy as ap\n",
    "import jieba\n",
    "\n",
    "def load_data(filename):\n",
    "    vocabSet = set([])\n",
    "    fr = open(filename, encoding='utf-8')\n",
    "    arrayOfLines = fr.readlines()\n",
    "    numOfLines = len(arrayOfLines)\n",
    "    classLabel = []\n",
    "    review = []\n",
    "    for index in range(1,numOfLines):   # 去除第一行\n",
    "        line = arrayOfLines[index]\n",
    "        classLabel.append(line[0])\n",
    "        review.append(line[2:-1])\n",
    "        words = jieba.cut(review[-1])\n",
    "        wordList = []\n",
    "        for word in words:\n",
    "            wordList.append(word)\n",
    "        vocabSet = vocabSet | set(wordList)\n",
    "    return review, classLabel, list(vocabSet)\n",
    "\n",
    "review, classLabel, vocabList = load_data('外卖评论.csv')"
   ]
  },
  {
   "cell_type": "code",
   "execution_count": 2,
   "metadata": {},
   "outputs": [
    {
     "data": {
      "text/plain": "True"
     },
     "execution_count": 2,
     "metadata": {},
     "output_type": "execute_result"
    }
   ],
   "source": [
    "len(vocabList)\n",
    "'还好' in vocabList"
   ]
  },
  {
   "cell_type": "code",
   "execution_count": 3,
   "metadata": {},
   "outputs": [
    {
     "data": {
      "text/plain": "11987"
     },
     "execution_count": 3,
     "metadata": {},
     "output_type": "execute_result"
    }
   ],
   "source": [
    "len(review) "
   ]
  }
 ],
 "metadata": {
  "kernelspec": {
   "display_name": "Python 3.8.8 ('base')",
   "language": "python",
   "name": "python3"
  },
  "language_info": {
   "codemirror_mode": {
    "name": "ipython",
    "version": 3
   },
   "file_extension": ".py",
   "mimetype": "text/x-python",
   "name": "python",
   "nbconvert_exporter": "python",
   "pygments_lexer": "ipython3",
   "version": "3.8.8"
  },
  "orig_nbformat": 4,
  "vscode": {
   "interpreter": {
    "hash": "94575b6b5c7ce34ed132cb4212b78ac8070ddff01cae3c740c9a81d0c756f826"
   }
  }
 },
 "nbformat": 4,
 "nbformat_minor": 2
}